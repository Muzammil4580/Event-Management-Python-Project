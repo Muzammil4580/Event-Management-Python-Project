{
 "cells": [
  {
   "cell_type": "code",
   "execution_count": null,
   "id": "0dba8a2a",
   "metadata": {},
   "outputs": [
    {
     "name": "stdout",
     "output_type": "stream",
     "text": [
      "\t\tWelcome To Event Management System\n",
      "\n",
      "1.Event Details \n",
      "4.Exit\n",
      "Enter the number from Menu to proceed1\n",
      "\n",
      "**Event Details**\n",
      "\n",
      "1.Insert Event \n",
      "2.Show Event \n",
      "3.Delete Event \n",
      "4.Update Event \n",
      ".5.Main Menu Event\n",
      "Enter the number from Menu to proceed5\n",
      "\n",
      "1.Insert Event \n",
      "2.Show Event \n",
      "3.Delete Event \n",
      "4.Update Event \n",
      ".5.Main Menu Event\n",
      "Enter the number from Menu to proceed4\n"
     ]
    }
   ],
   "source": [
    "import pandas\n",
    "import csv\n",
    "print(\"\\t\\tWelcome To Event Management System\")\n",
    "def Main():\n",
    "    print(\"\\n1.Event Details \\n4.Exit\")\n",
    "    a = int(input(\"Enter the number from Menu to proceed\"))\n",
    "    if a==1:\n",
    "        print(\"\\n**Event Details**\")\n",
    "        Det()\n",
    "    elif a==0:\n",
    "        quit()\n",
    "    return()\n",
    "def Det():\n",
    "    while 1:\n",
    "        print(\"\\n1.Insert Event \\n2.Show Event \\n3.Delete Event \\n4.Update Event \\n.5.Main Menu Event\")\n",
    "        b = int(input(\"Enter the number from Menu to proceed\"))\n",
    "        if b==1:\n",
    "            from csv import writer\n",
    "            a = str(input(\"Enter Event Code\"))\n",
    "            b = str(input(\"Enter Event name\"))\n",
    "            c = str(input(\"Enter Event Status\"))\n",
    "            list_data = [a, b, c]\n",
    "            with open('wasay1.csv', 'a', newline='') as f_object:\n",
    "                writer_object= writer(f_object)\n",
    "                writer_object.writerow(list_data)\n",
    "                f_object.close()\n",
    "        if b==2:\n",
    "            s = pandas.read_csv('wasay1.csv')\n",
    "            print(s)\n",
    "        if b==3:\n",
    "            n = str(input(\"Enter the ID number whose data you want to delete:\"))\n",
    "            v = pandas.read_csv('wasay1.csv')\n",
    "            d = v[: 3]\n",
    "            d.set_index('Event Code', inplace=True)\n",
    "            d = d.drop(n)\n",
    "            print(d)\n",
    "        if b==4:\n",
    "            n = int(input(\"Enter the number of row in which replacement is made: \"))\n",
    "            N = str(input(\"Enter the name of column in which you want replacement\"))\n",
    "            r = str(input(\"Enter the new thing\"))\n",
    "            v = n+1\n",
    "            df = pandas.read_csv(\"wasay1.csv\")\n",
    "            df.loc[v, N] = r\n",
    "            df.to_csv(\"wasay1.csv\", index=False)\n",
    "            print(df)\n",
    "Main()"
   ]
  },
  {
   "cell_type": "code",
   "execution_count": null,
   "id": "2ffa4475",
   "metadata": {},
   "outputs": [],
   "source": []
  },
  {
   "cell_type": "code",
   "execution_count": null,
   "id": "72eb5770",
   "metadata": {},
   "outputs": [],
   "source": []
  }
 ],
 "metadata": {
  "kernelspec": {
   "display_name": "Python 3 (ipykernel)",
   "language": "python",
   "name": "python3"
  },
  "language_info": {
   "codemirror_mode": {
    "name": "ipython",
    "version": 3
   },
   "file_extension": ".py",
   "mimetype": "text/x-python",
   "name": "python",
   "nbconvert_exporter": "python",
   "pygments_lexer": "ipython3",
   "version": "3.9.7"
  }
 },
 "nbformat": 4,
 "nbformat_minor": 5
}
